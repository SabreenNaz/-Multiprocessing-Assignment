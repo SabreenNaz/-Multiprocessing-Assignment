{
 "cells": [
  {
   "cell_type": "markdown",
   "id": "847adbb7-db76-4977-981e-bb4bb638709c",
   "metadata": {},
   "source": [
    "Q1. What is multiprocessing in python? Why is it useful?"
   ]
  },
  {
   "cell_type": "markdown",
   "id": "0c3742db-dfae-4694-a9f5-a0a4f4fc01b7",
   "metadata": {},
   "source": [
    "#Answer\n",
    "\n",
    "\n",
    "Multiprocessing :____\n",
    "\n",
    "Multiprocessing is a programming technique that involves the concurrent execution of multiple processes, the multiprocessing module provides a way to create and manage multiple processes, allowing developers to take advantage of parallelism to execute tasks more efficiently. Each process runs independently, with its own memory space, and can execute different parts of a program concurrently.\n",
    "\n",
    "\n",
    "Usefulness of Multiprocessing:\n",
    "\n",
    "* Parallelism:\n",
    "\n",
    "Multiprocessing enables parallelism, allowing different tasks or parts of a program to be executed simultaneously. This can lead to significant performance improvements, especially on systems with multiple processors or cores\n",
    "\n",
    "\n",
    "* Improved Performance:\n",
    "\n",
    "CPU-bound tasks, such as data processing, mathematical computations, and simulations, can benefit from multiprocessing as it allows efficient utilization of available resources.\n",
    "\n",
    "\n",
    " * Concurrency:\n",
    "\n",
    "Multiprocessing is valuable for handling concurrent tasks, particularly in scenarios where multiple operations need to be performed independently and simultaneously.\n",
    "\n",
    "\n",
    "* Avoiding Global Interpreter Lock (GIL):\n",
    "\n",
    "In CPython, the Global Interpreter Lock (GIL) can limit the performance of multithreading. Multiprocessing allows bypassing the GIL by using separate processes, making it suitable for CPU-bound tasks.\n",
    "\n",
    "\n",
    "* Fault Isolation:\n",
    "\n",
    "\n",
    "Each process in multiprocessing runs in its own memory space, providing a level of fault isolation. If one process encounters an issue or crashes, it does not affect other processes.\n",
    "\n",
    "\n",
    "* Scalability:\n",
    "\n",
    "Multiprocessing provides a scalable approach to solving problems, as the number of processes can be adjusted based on the available hardware resources.\n",
    "\n"
   ]
  },
  {
   "cell_type": "markdown",
   "id": "d768ab2e-88b4-43b3-a1dd-6c72edbb4923",
   "metadata": {},
   "source": [
    "                      -------------------------------------------------------------------"
   ]
  },
  {
   "cell_type": "markdown",
   "id": "491180f2-5135-481c-9aa5-c7f7f6e92a5f",
   "metadata": {},
   "source": [
    "Q2. What are the differences between multiprocessing and multithreading?"
   ]
  },
  {
   "cell_type": "markdown",
   "id": "8754d246-cbb3-4f6b-b7b8-f5ed96af1bb5",
   "metadata": {},
   "source": [
    "#Answer\n",
    "\n",
    "\n",
    "Differences Between Multiprocessing and Multithreading:\n",
    "\n",
    "1. Definition:\n",
    "\n",
    "* Multiprocessing:\n",
    "In multiprocessing, multiple processes run independently, each with its own memory space and resources. Processes can communicate through inter-process communication mechanisms.\n",
    "\n",
    "* Multithreading:\n",
    "In multithreading, multiple threads share the same process and resources, running concurrently within the same memory space. Threads within a process can communicate more easily but need to synchronize access to shared resources.\n",
    "\n",
    "\n",
    "2. Isolation:\n",
    "\n",
    "* Multiprocessing:\n",
    "Processes are isolated from each other, and each process has its own address space. A crash in one process does not affect others.\n",
    "\n",
    "* Multithreading:\n",
    "Threads within a process share the same address space, and a crash or error in one thread can potentially affect the entire process.\n",
    "\n",
    "\n",
    "3. Communication:\n",
    "\n",
    "* Multiprocessing:\n",
    "Inter-process communication (IPC) is used for communication between processes. This can include methods like pipes, queues, and shared memory.\n",
    "\n",
    "* Multithreading:\n",
    "Threads within a process can communicate more easily through shared variables and data structures since they share the same memory space.\n",
    "\n",
    "4. Resource Overhead:\n",
    "\n",
    "* Multiprocessing:\n",
    "Generally has higher resource overhead compared to multithreading because each process has its own memory space and resources.\n",
    "\n",
    "* Multithreading:\n",
    "Typically has lower resource overhead since threads within a process share resources.\n",
    "\n",
    "\n",
    "5. Parallelism:\n",
    "\n",
    "* Multiprocessing:\n",
    "Provides true parallelism as each process can run on a separate core or processor.\n",
    "\n",
    "* Multithreading:\n",
    "In CPython, due to the Global Interpreter Lock (GIL), multithreading may not achieve true parallelism for CPU-bound tasks.\n",
    "\n",
    "\n",
    "6. Scalability:\n",
    "\n",
    "* Multiprocessing:\n",
    "Scales well with the number of available processors or cores.\n",
    "\n",
    "* Multithreading:\n",
    "May not scale as effectively due to limitations imposed by the GIL in CPython.\n",
    "\n",
    "\n",
    "7. GIL (Global Interpreter Lock):\n",
    "\n",
    "* Multiprocessing:\n",
    "Bypasses the GIL by using separate processes, allowing better utilization of multiple CPU cores.\n",
    "\n",
    "* Multithreading:\n",
    "Subject to the GIL, which can limit the effectiveness of parallelism for CPU-bound tasks in CPython.\n",
    "\n",
    "\n",
    "8. Complexity:\n",
    "\n",
    "* Multiprocessing:\n",
    "Can be more complex due to the need for inter-process communication and management of separate processes\n",
    "\n",
    "* Multithreading:\n",
    "Generally simpler to implement, especially for tasks that involve shared data within a single process.\n",
    "\n",
    "\n",
    "9. Fault Tolerance:\n",
    "\n",
    "* Multiprocessing:\n",
    "Offers better fault isolation as a crash in one process does not affect others.\n",
    "\n",
    "* Multithreading:\n",
    "A crash in one thread can potentially impact the entire process.\n",
    "\n",
    "The choice between multiprocessing and multithreading depends on the nature of the task, the characteristics of the system, and the desired programming requirements. Each has its strengths and weaknesses, and the best choice may vary based on the specific use case"
   ]
  },
  {
   "cell_type": "markdown",
   "id": "61e7fe27-1fe2-442b-9990-ddf2b4958328",
   "metadata": {},
   "source": [
    "                      -------------------------------------------------------------------"
   ]
  },
  {
   "cell_type": "markdown",
   "id": "ee58e8fc-6392-4da0-a0c9-2443f93e661c",
   "metadata": {},
   "source": [
    "Q3. Write a python code to create a process using the multiprocessing module."
   ]
  },
  {
   "cell_type": "code",
   "execution_count": 1,
   "id": "c4a31648-0450-4cfb-939c-2fdc5b78a13c",
   "metadata": {},
   "outputs": [
    {
     "name": "stdout",
     "output_type": "stream",
     "text": [
      "Worker process started.\n",
      "Worker process finished.\n",
      "Main process finished.\n"
     ]
    }
   ],
   "source": [
    "#Answer\n",
    "\n",
    "import multiprocessing\n",
    "\n",
    "\n",
    "import time\n",
    "\n",
    "def worker_function():\n",
    "    \"\"\"Function that will be executed in a separate process.\"\"\"\n",
    "    print(\"Worker process started.\")\n",
    "    time.sleep(2)\n",
    "    print(\"Worker process finished.\")\n",
    "\n",
    "if __name__ == \"__main__\":\n",
    "    # Create a multiprocessing Process object\n",
    "    worker_process = multiprocessing.Process(target=worker_function)\n",
    "\n",
    "    # Start the process\n",
    "    worker_process.start()\n",
    "\n",
    "    # Wait for the process to finish (optional)\n",
    "    worker_process.join()\n",
    "\n",
    "    print(\"Main process finished.\")\n"
   ]
  },
  {
   "cell_type": "markdown",
   "id": "ab68aa9b-06e7-48ba-9454-ab662e3c7fc2",
   "metadata": {},
   "source": [
    "                      -------------------------------------------------------------------"
   ]
  },
  {
   "cell_type": "markdown",
   "id": "603d8454-0f91-4c58-9047-9330eaa2c9b0",
   "metadata": {},
   "source": [
    "Q4. What is a multiprocessing pool in python? Why is it used?"
   ]
  },
  {
   "cell_type": "markdown",
   "id": "200f7e58-86a2-4779-9d79-2cec34c498de",
   "metadata": {},
   "source": [
    "#Answer\n",
    "\n",
    "A multiprocessing pool is a mechanism that allows for parallelizing the execution of a function across multiple input values. It provides a convenient way to distribute the workload among multiple processes, taking advantage of multi-core systems and potentially speeding up the overall computation.\n",
    "\n",
    "The 'multiprocessing.Pool' class  creates a pool of worker processes, each of which can execute a given function on a different set of input data. The main advantage of using a pool is that it abstracts away the details of creating and managing individual processes, making it easier to parallelize tasks.\n",
    "\n",
    "Here's a simple example of using multiprocessing.Pool:"
   ]
  },
  {
   "cell_type": "markdown",
   "id": "68d3e0fb-0a0d-4df8-a348-b9e5660e216c",
   "metadata": {},
   "source": [
    "\n",
    "The main uses of using a multiprocessing pool include:\n",
    "\n",
    "* Parallel Execution: The pool allows multiple processes to execute tasks concurrently, which can significantly reduce the overall computation time, especially on multi-core systems.\n",
    "\n",
    "* Abstraction: The pool abstracts away the complexities of managing individual processes. You don't have to manually create, start, and join processes; the pool handles these details.\n",
    "\n",
    "* Synchronization: The pool takes care of task distribution and result gathering, ensuring that the main program is synchronized with the worker processes.\n",
    "\n",
    " multiprocessing pool is most beneficial for tasks that can be easily parallelized, such as independent calculations on different data elements. \n"
   ]
  },
  {
   "cell_type": "markdown",
   "id": "cefbaf43-6ff9-49ad-b189-2a56c6f188e8",
   "metadata": {},
   "source": [
    "                      -------------------------------------------------------------------"
   ]
  },
  {
   "cell_type": "markdown",
   "id": "d83dbde1-120b-428e-9820-73b17987c381",
   "metadata": {},
   "source": [
    "Q5. How can we create a pool of worker processes in python using the multiprocessing module?"
   ]
  },
  {
   "cell_type": "code",
   "execution_count": 3,
   "id": "c67726a7-8ae8-46db-b04c-93fda859241d",
   "metadata": {},
   "outputs": [
    {
     "name": "stdout",
     "output_type": "stream",
     "text": [
      "Original values: [1, 2, 3, 4, 5]\n",
      "Results: [1, 4, 9, 16, 25]\n"
     ]
    }
   ],
   "source": [
    "#Answer\n",
    "\n",
    "import multiprocessing\n",
    "\n",
    "def worker_function(x):\n",
    "    \"\"\"Example worker function that squares a number.\"\"\"\n",
    "    return x * x\n",
    "\n",
    "if __name__ == \"__main__\":\n",
    "    # Define the number of worker processes in the pool\n",
    "    num_processes = 3\n",
    "\n",
    "    # Create a multiprocessing Pool with the specified number of processes\n",
    "    with multiprocessing.Pool(processes=num_processes) as pool:\n",
    "        # Define a list of input values\n",
    "        input_values = [1, 2, 3, 4, 5]\n",
    "\n",
    "        # Use the map function to apply the worker function to the input values in parallel\n",
    "        results = pool.map(worker_function, input_values)\n",
    "\n",
    "    # Print the original values and the results\n",
    "    print(\"Original values:\", input_values)\n",
    "    print(\"Results:\", results)\n"
   ]
  },
  {
   "cell_type": "markdown",
   "id": "4bd56842-96dd-463e-9a53-abe5f7acc2c6",
   "metadata": {},
   "source": [
    "                       -------------------------------------------------------------------"
   ]
  },
  {
   "cell_type": "markdown",
   "id": "e5cfcd8a-e250-42a7-8424-c3a5f8fe7a69",
   "metadata": {},
   "source": [
    "Q6. Write a python program to create 4 processes, each process should print a different number using the\n",
    "multiprocessing module in python."
   ]
  },
  {
   "cell_type": "code",
   "execution_count": 8,
   "id": "e56c2925-c023-4f09-be5d-2b3737280d6d",
   "metadata": {},
   "outputs": [
    {
     "name": "stdout",
     "output_type": "stream",
     "text": [
      "Process Process-9ProcessProcess-10  prints:  Process1prints:\n",
      "  Process-112 \n",
      "Processprints:  Process-123 \n",
      "prints: 4\n"
     ]
    }
   ],
   "source": [
    "import multiprocessing\n",
    "import time\n",
    "\n",
    "def print_number(process_number):\n",
    "    number = process_number + 1\n",
    "    print(\"Process\", multiprocessing.current_process().name, \"prints:\", number)\n",
    "    time.sleep(0.1)  # Introduce a small delay\n",
    "\n",
    "if __name__ == '__main__':\n",
    "    # Create a list of process numbers\n",
    "    process_numbers = [0, 1, 2, 3]\n",
    "\n",
    "    # Create a list to store process objects\n",
    "    processes = []\n",
    "\n",
    "    # Create and start a process for each process number\n",
    "    for process_number in process_numbers:\n",
    "        process = multiprocessing.Process(target=print_number, args=(process_number,))\n",
    "        processes.append(process)\n",
    "        process.start()\n",
    "\n",
    "    # Wait for all processes to finish\n",
    "    for process in processes:\n",
    "        process.join()\n"
   ]
  },
  {
   "cell_type": "markdown",
   "id": "c195c9bd-aba6-49ad-a195-6b541eb54fb2",
   "metadata": {},
   "source": [
    "                        -------------------------------------------------------------------"
   ]
  }
 ],
 "metadata": {
  "kernelspec": {
   "display_name": "Python 3 (ipykernel)",
   "language": "python",
   "name": "python3"
  },
  "language_info": {
   "codemirror_mode": {
    "name": "ipython",
    "version": 3
   },
   "file_extension": ".py",
   "mimetype": "text/x-python",
   "name": "python",
   "nbconvert_exporter": "python",
   "pygments_lexer": "ipython3",
   "version": "3.10.8"
  }
 },
 "nbformat": 4,
 "nbformat_minor": 5
}
